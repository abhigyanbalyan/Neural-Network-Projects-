{
  "nbformat": 4,
  "nbformat_minor": 0,
  "metadata": {
    "colab": {
      "name": "Linear_Classification_NN",
      "provenance": []
    },
    "kernelspec": {
      "name": "python3",
      "display_name": "Python 3"
    }
  },
  "cells": [
    {
      "cell_type": "code",
      "metadata": {
        "id": "GW0Wf1n7j61o"
      },
      "source": [
        "import tensorflow as tf"
      ],
      "execution_count": 28,
      "outputs": []
    },
    {
      "cell_type": "code",
      "metadata": {
        "colab": {
          "base_uri": "https://localhost:8080/"
        },
        "id": "8ffwxOIFkaql",
        "outputId": "0f521d9c-1894-4dc0-f166-331cca509cdc"
      },
      "source": [
        " print(tf.__version__)"
      ],
      "execution_count": 29,
      "outputs": [
        {
          "output_type": "stream",
          "text": [
            "2.4.1\n"
          ],
          "name": "stdout"
        }
      ]
    },
    {
      "cell_type": "code",
      "metadata": {
        "id": "xpPOzf9Ql8_n"
      },
      "source": [
        ""
      ],
      "execution_count": 29,
      "outputs": []
    },
    {
      "cell_type": "code",
      "metadata": {
        "id": "giOQj28OmL2M"
      },
      "source": [
        "from sklearn.datasets import load_breast_cancer"
      ],
      "execution_count": 30,
      "outputs": []
    },
    {
      "cell_type": "code",
      "metadata": {
        "id": "X4v6NkC2mfB1"
      },
      "source": [
        "data=load_breast_cancer()"
      ],
      "execution_count": 31,
      "outputs": []
    },
    {
      "cell_type": "code",
      "metadata": {
        "id": "NGF6im0cmo1T"
      },
      "source": [
        "import pandas as pd\r\n"
      ],
      "execution_count": 32,
      "outputs": []
    },
    {
      "cell_type": "code",
      "metadata": {
        "colab": {
          "base_uri": "https://localhost:8080/"
        },
        "id": "mogrPdqdmrBs",
        "outputId": "1c131c63-0321-47ad-8f18-7645966a7d90"
      },
      "source": [
        "print(data)"
      ],
      "execution_count": 33,
      "outputs": [
        {
          "output_type": "stream",
          "text": [
            "{'data': array([[1.799e+01, 1.038e+01, 1.228e+02, ..., 2.654e-01, 4.601e-01,\n",
            "        1.189e-01],\n",
            "       [2.057e+01, 1.777e+01, 1.329e+02, ..., 1.860e-01, 2.750e-01,\n",
            "        8.902e-02],\n",
            "       [1.969e+01, 2.125e+01, 1.300e+02, ..., 2.430e-01, 3.613e-01,\n",
            "        8.758e-02],\n",
            "       ...,\n",
            "       [1.660e+01, 2.808e+01, 1.083e+02, ..., 1.418e-01, 2.218e-01,\n",
            "        7.820e-02],\n",
            "       [2.060e+01, 2.933e+01, 1.401e+02, ..., 2.650e-01, 4.087e-01,\n",
            "        1.240e-01],\n",
            "       [7.760e+00, 2.454e+01, 4.792e+01, ..., 0.000e+00, 2.871e-01,\n",
            "        7.039e-02]]), 'target': array([0, 0, 0, 0, 0, 0, 0, 0, 0, 0, 0, 0, 0, 0, 0, 0, 0, 0, 0, 1, 1, 1,\n",
            "       0, 0, 0, 0, 0, 0, 0, 0, 0, 0, 0, 0, 0, 0, 0, 1, 0, 0, 0, 0, 0, 0,\n",
            "       0, 0, 1, 0, 1, 1, 1, 1, 1, 0, 0, 1, 0, 0, 1, 1, 1, 1, 0, 1, 0, 0,\n",
            "       1, 1, 1, 1, 0, 1, 0, 0, 1, 0, 1, 0, 0, 1, 1, 1, 0, 0, 1, 0, 0, 0,\n",
            "       1, 1, 1, 0, 1, 1, 0, 0, 1, 1, 1, 0, 0, 1, 1, 1, 1, 0, 1, 1, 0, 1,\n",
            "       1, 1, 1, 1, 1, 1, 1, 0, 0, 0, 1, 0, 0, 1, 1, 1, 0, 0, 1, 0, 1, 0,\n",
            "       0, 1, 0, 0, 1, 1, 0, 1, 1, 0, 1, 1, 1, 1, 0, 1, 1, 1, 1, 1, 1, 1,\n",
            "       1, 1, 0, 1, 1, 1, 1, 0, 0, 1, 0, 1, 1, 0, 0, 1, 1, 0, 0, 1, 1, 1,\n",
            "       1, 0, 1, 1, 0, 0, 0, 1, 0, 1, 0, 1, 1, 1, 0, 1, 1, 0, 0, 1, 0, 0,\n",
            "       0, 0, 1, 0, 0, 0, 1, 0, 1, 0, 1, 1, 0, 1, 0, 0, 0, 0, 1, 1, 0, 0,\n",
            "       1, 1, 1, 0, 1, 1, 1, 1, 1, 0, 0, 1, 1, 0, 1, 1, 0, 0, 1, 0, 1, 1,\n",
            "       1, 1, 0, 1, 1, 1, 1, 1, 0, 1, 0, 0, 0, 0, 0, 0, 0, 0, 0, 0, 0, 0,\n",
            "       0, 0, 1, 1, 1, 1, 1, 1, 0, 1, 0, 1, 1, 0, 1, 1, 0, 1, 0, 0, 1, 1,\n",
            "       1, 1, 1, 1, 1, 1, 1, 1, 1, 1, 1, 0, 1, 1, 0, 1, 0, 1, 1, 1, 1, 1,\n",
            "       1, 1, 1, 1, 1, 1, 1, 1, 1, 0, 1, 1, 1, 0, 1, 0, 1, 1, 1, 1, 0, 0,\n",
            "       0, 1, 1, 1, 1, 0, 1, 0, 1, 0, 1, 1, 1, 0, 1, 1, 1, 1, 1, 1, 1, 0,\n",
            "       0, 0, 1, 1, 1, 1, 1, 1, 1, 1, 1, 1, 1, 0, 0, 1, 0, 0, 0, 1, 0, 0,\n",
            "       1, 1, 1, 1, 1, 0, 1, 1, 1, 1, 1, 0, 1, 1, 1, 0, 1, 1, 0, 0, 1, 1,\n",
            "       1, 1, 1, 1, 0, 1, 1, 1, 1, 1, 1, 1, 0, 1, 1, 1, 1, 1, 0, 1, 1, 0,\n",
            "       1, 1, 1, 1, 1, 1, 1, 1, 1, 1, 1, 1, 0, 1, 0, 0, 1, 0, 1, 1, 1, 1,\n",
            "       1, 0, 1, 1, 0, 1, 0, 1, 1, 0, 1, 0, 1, 1, 1, 1, 1, 1, 1, 1, 0, 0,\n",
            "       1, 1, 1, 1, 1, 1, 0, 1, 1, 1, 1, 1, 1, 1, 1, 1, 1, 0, 1, 1, 1, 1,\n",
            "       1, 1, 1, 0, 1, 0, 1, 1, 0, 1, 1, 1, 1, 1, 0, 0, 1, 0, 1, 0, 1, 1,\n",
            "       1, 1, 1, 0, 1, 1, 0, 1, 0, 1, 0, 0, 1, 1, 1, 0, 1, 1, 1, 1, 1, 1,\n",
            "       1, 1, 1, 1, 1, 0, 1, 0, 0, 1, 1, 1, 1, 1, 1, 1, 1, 1, 1, 1, 1, 1,\n",
            "       1, 1, 1, 1, 1, 1, 1, 1, 1, 1, 1, 1, 0, 0, 0, 0, 0, 0, 1]), 'target_names': array(['malignant', 'benign'], dtype='<U9'), 'DESCR': '.. _breast_cancer_dataset:\\n\\nBreast cancer wisconsin (diagnostic) dataset\\n--------------------------------------------\\n\\n**Data Set Characteristics:**\\n\\n    :Number of Instances: 569\\n\\n    :Number of Attributes: 30 numeric, predictive attributes and the class\\n\\n    :Attribute Information:\\n        - radius (mean of distances from center to points on the perimeter)\\n        - texture (standard deviation of gray-scale values)\\n        - perimeter\\n        - area\\n        - smoothness (local variation in radius lengths)\\n        - compactness (perimeter^2 / area - 1.0)\\n        - concavity (severity of concave portions of the contour)\\n        - concave points (number of concave portions of the contour)\\n        - symmetry \\n        - fractal dimension (\"coastline approximation\" - 1)\\n\\n        The mean, standard error, and \"worst\" or largest (mean of the three\\n        largest values) of these features were computed for each image,\\n        resulting in 30 features.  For instance, field 3 is Mean Radius, field\\n        13 is Radius SE, field 23 is Worst Radius.\\n\\n        - class:\\n                - WDBC-Malignant\\n                - WDBC-Benign\\n\\n    :Summary Statistics:\\n\\n    ===================================== ====== ======\\n                                           Min    Max\\n    ===================================== ====== ======\\n    radius (mean):                        6.981  28.11\\n    texture (mean):                       9.71   39.28\\n    perimeter (mean):                     43.79  188.5\\n    area (mean):                          143.5  2501.0\\n    smoothness (mean):                    0.053  0.163\\n    compactness (mean):                   0.019  0.345\\n    concavity (mean):                     0.0    0.427\\n    concave points (mean):                0.0    0.201\\n    symmetry (mean):                      0.106  0.304\\n    fractal dimension (mean):             0.05   0.097\\n    radius (standard error):              0.112  2.873\\n    texture (standard error):             0.36   4.885\\n    perimeter (standard error):           0.757  21.98\\n    area (standard error):                6.802  542.2\\n    smoothness (standard error):          0.002  0.031\\n    compactness (standard error):         0.002  0.135\\n    concavity (standard error):           0.0    0.396\\n    concave points (standard error):      0.0    0.053\\n    symmetry (standard error):            0.008  0.079\\n    fractal dimension (standard error):   0.001  0.03\\n    radius (worst):                       7.93   36.04\\n    texture (worst):                      12.02  49.54\\n    perimeter (worst):                    50.41  251.2\\n    area (worst):                         185.2  4254.0\\n    smoothness (worst):                   0.071  0.223\\n    compactness (worst):                  0.027  1.058\\n    concavity (worst):                    0.0    1.252\\n    concave points (worst):               0.0    0.291\\n    symmetry (worst):                     0.156  0.664\\n    fractal dimension (worst):            0.055  0.208\\n    ===================================== ====== ======\\n\\n    :Missing Attribute Values: None\\n\\n    :Class Distribution: 212 - Malignant, 357 - Benign\\n\\n    :Creator:  Dr. William H. Wolberg, W. Nick Street, Olvi L. Mangasarian\\n\\n    :Donor: Nick Street\\n\\n    :Date: November, 1995\\n\\nThis is a copy of UCI ML Breast Cancer Wisconsin (Diagnostic) datasets.\\nhttps://goo.gl/U2Uwz2\\n\\nFeatures are computed from a digitized image of a fine needle\\naspirate (FNA) of a breast mass.  They describe\\ncharacteristics of the cell nuclei present in the image.\\n\\nSeparating plane described above was obtained using\\nMultisurface Method-Tree (MSM-T) [K. P. Bennett, \"Decision Tree\\nConstruction Via Linear Programming.\" Proceedings of the 4th\\nMidwest Artificial Intelligence and Cognitive Science Society,\\npp. 97-101, 1992], a classification method which uses linear\\nprogramming to construct a decision tree.  Relevant features\\nwere selected using an exhaustive search in the space of 1-4\\nfeatures and 1-3 separating planes.\\n\\nThe actual linear program used to obtain the separating plane\\nin the 3-dimensional space is that described in:\\n[K. P. Bennett and O. L. Mangasarian: \"Robust Linear\\nProgramming Discrimination of Two Linearly Inseparable Sets\",\\nOptimization Methods and Software 1, 1992, 23-34].\\n\\nThis database is also available through the UW CS ftp server:\\n\\nftp ftp.cs.wisc.edu\\ncd math-prog/cpo-dataset/machine-learn/WDBC/\\n\\n.. topic:: References\\n\\n   - W.N. Street, W.H. Wolberg and O.L. Mangasarian. Nuclear feature extraction \\n     for breast tumor diagnosis. IS&T/SPIE 1993 International Symposium on \\n     Electronic Imaging: Science and Technology, volume 1905, pages 861-870,\\n     San Jose, CA, 1993.\\n   - O.L. Mangasarian, W.N. Street and W.H. Wolberg. Breast cancer diagnosis and \\n     prognosis via linear programming. Operations Research, 43(4), pages 570-577, \\n     July-August 1995.\\n   - W.H. Wolberg, W.N. Street, and O.L. Mangasarian. Machine learning techniques\\n     to diagnose breast cancer from fine-needle aspirates. Cancer Letters 77 (1994) \\n     163-171.', 'feature_names': array(['mean radius', 'mean texture', 'mean perimeter', 'mean area',\n",
            "       'mean smoothness', 'mean compactness', 'mean concavity',\n",
            "       'mean concave points', 'mean symmetry', 'mean fractal dimension',\n",
            "       'radius error', 'texture error', 'perimeter error', 'area error',\n",
            "       'smoothness error', 'compactness error', 'concavity error',\n",
            "       'concave points error', 'symmetry error',\n",
            "       'fractal dimension error', 'worst radius', 'worst texture',\n",
            "       'worst perimeter', 'worst area', 'worst smoothness',\n",
            "       'worst compactness', 'worst concavity', 'worst concave points',\n",
            "       'worst symmetry', 'worst fractal dimension'], dtype='<U23'), 'filename': '/usr/local/lib/python3.6/dist-packages/sklearn/datasets/data/breast_cancer.csv'}\n"
          ],
          "name": "stdout"
        }
      ]
    },
    {
      "cell_type": "code",
      "metadata": {
        "colab": {
          "base_uri": "https://localhost:8080/"
        },
        "id": "CEqMGvXpmsPh",
        "outputId": "6d65db94-07c2-4959-ecff-bab691eb4c22"
      },
      "source": [
        "data.keys()"
      ],
      "execution_count": 34,
      "outputs": [
        {
          "output_type": "execute_result",
          "data": {
            "text/plain": [
              "dict_keys(['data', 'target', 'target_names', 'DESCR', 'feature_names', 'filename'])"
            ]
          },
          "metadata": {
            "tags": []
          },
          "execution_count": 34
        }
      ]
    },
    {
      "cell_type": "code",
      "metadata": {
        "colab": {
          "base_uri": "https://localhost:8080/"
        },
        "id": "BtFQsn9Dm4Qz",
        "outputId": "0294ca0e-b9eb-409b-a907-4b6f5f2efea0"
      },
      "source": [
        "data.data.shape"
      ],
      "execution_count": 35,
      "outputs": [
        {
          "output_type": "execute_result",
          "data": {
            "text/plain": [
              "(569, 30)"
            ]
          },
          "metadata": {
            "tags": []
          },
          "execution_count": 35
        }
      ]
    },
    {
      "cell_type": "code",
      "metadata": {
        "colab": {
          "base_uri": "https://localhost:8080/"
        },
        "id": "AWmSJ3JEm8NJ",
        "outputId": "6522195b-24f4-4618-fe8d-7429e657b53d"
      },
      "source": [
        "data.target_names"
      ],
      "execution_count": 36,
      "outputs": [
        {
          "output_type": "execute_result",
          "data": {
            "text/plain": [
              "array(['malignant', 'benign'], dtype='<U9')"
            ]
          },
          "metadata": {
            "tags": []
          },
          "execution_count": 36
        }
      ]
    },
    {
      "cell_type": "code",
      "metadata": {
        "colab": {
          "base_uri": "https://localhost:8080/",
          "height": 35
        },
        "id": "IHnDK63inKTe",
        "outputId": "f6351b4f-7988-4f81-d22d-d13f3345c93d"
      },
      "source": [
        "data.filename"
      ],
      "execution_count": 37,
      "outputs": [
        {
          "output_type": "execute_result",
          "data": {
            "application/vnd.google.colaboratory.intrinsic+json": {
              "type": "string"
            },
            "text/plain": [
              "'/usr/local/lib/python3.6/dist-packages/sklearn/datasets/data/breast_cancer.csv'"
            ]
          },
          "metadata": {
            "tags": []
          },
          "execution_count": 37
        }
      ]
    },
    {
      "cell_type": "code",
      "metadata": {
        "colab": {
          "base_uri": "https://localhost:8080/"
        },
        "id": "-nw2LlnpnP67",
        "outputId": "1ab1c326-5ea7-4bef-f11a-b908fad88226"
      },
      "source": [
        "data.target.shape"
      ],
      "execution_count": 38,
      "outputs": [
        {
          "output_type": "execute_result",
          "data": {
            "text/plain": [
              "(569,)"
            ]
          },
          "metadata": {
            "tags": []
          },
          "execution_count": 38
        }
      ]
    },
    {
      "cell_type": "code",
      "metadata": {
        "id": "Ujl8eiTYnRdL",
        "colab": {
          "base_uri": "https://localhost:8080/"
        },
        "outputId": "ae8ddd76-fdcb-4e96-cd57-bd4879a17c5f"
      },
      "source": [
        " type(data)"
      ],
      "execution_count": 39,
      "outputs": [
        {
          "output_type": "execute_result",
          "data": {
            "text/plain": [
              "sklearn.utils.Bunch"
            ]
          },
          "metadata": {
            "tags": []
          },
          "execution_count": 39
        }
      ]
    },
    {
      "cell_type": "code",
      "metadata": {
        "colab": {
          "base_uri": "https://localhost:8080/"
        },
        "id": "LTyMp9bH7KqO",
        "outputId": "16aba515-1c7f-416d-9af0-9355f7b5da96"
      },
      "source": [
        "data.feature_names"
      ],
      "execution_count": 40,
      "outputs": [
        {
          "output_type": "execute_result",
          "data": {
            "text/plain": [
              "array(['mean radius', 'mean texture', 'mean perimeter', 'mean area',\n",
              "       'mean smoothness', 'mean compactness', 'mean concavity',\n",
              "       'mean concave points', 'mean symmetry', 'mean fractal dimension',\n",
              "       'radius error', 'texture error', 'perimeter error', 'area error',\n",
              "       'smoothness error', 'compactness error', 'concavity error',\n",
              "       'concave points error', 'symmetry error',\n",
              "       'fractal dimension error', 'worst radius', 'worst texture',\n",
              "       'worst perimeter', 'worst area', 'worst smoothness',\n",
              "       'worst compactness', 'worst concavity', 'worst concave points',\n",
              "       'worst symmetry', 'worst fractal dimension'], dtype='<U23')"
            ]
          },
          "metadata": {
            "tags": []
          },
          "execution_count": 40
        }
      ]
    },
    {
      "cell_type": "code",
      "metadata": {
        "id": "5Ayk-R8O7bRZ"
      },
      "source": [
        "from sklearn.model_selection import train_test_split"
      ],
      "execution_count": 41,
      "outputs": []
    },
    {
      "cell_type": "code",
      "metadata": {
        "id": "duLnGqjf9oul"
      },
      "source": [
        "X_train, X_test, y_train, y_test= train_test_split(data.data,data.target,test_size=0.33)"
      ],
      "execution_count": 42,
      "outputs": []
    },
    {
      "cell_type": "code",
      "metadata": {
        "id": "KvwTEDHc-AOp"
      },
      "source": [
        "N,D=X_train.shape"
      ],
      "execution_count": 43,
      "outputs": []
    },
    {
      "cell_type": "code",
      "metadata": {
        "colab": {
          "base_uri": "https://localhost:8080/"
        },
        "id": "739HQZC9-Hvd",
        "outputId": "1f1ce061-d9f2-47c7-cce7-14d401257c59"
      },
      "source": [
        "print(N)"
      ],
      "execution_count": 44,
      "outputs": [
        {
          "output_type": "stream",
          "text": [
            "381\n"
          ],
          "name": "stdout"
        }
      ]
    },
    {
      "cell_type": "code",
      "metadata": {
        "colab": {
          "base_uri": "https://localhost:8080/"
        },
        "id": "wbm23IsR-I19",
        "outputId": "0504bae3-6c52-4ade-acb4-d9333786437b"
      },
      "source": [
        "D"
      ],
      "execution_count": 45,
      "outputs": [
        {
          "output_type": "execute_result",
          "data": {
            "text/plain": [
              "30"
            ]
          },
          "metadata": {
            "tags": []
          },
          "execution_count": 45
        }
      ]
    },
    {
      "cell_type": "code",
      "metadata": {
        "id": "53dxvrTY-YL-"
      },
      "source": [
        "from sklearn.preprocessing import StandardScaler"
      ],
      "execution_count": 46,
      "outputs": []
    },
    {
      "cell_type": "code",
      "metadata": {
        "id": "i2DUU0il-kxN"
      },
      "source": [
        "scaler=StandardScaler()\r\n",
        "X_train=scaler.fit_transform(X_train)\r\n",
        "X_test=scaler.transform(X_test)"
      ],
      "execution_count": 47,
      "outputs": []
    },
    {
      "cell_type": "code",
      "metadata": {
        "colab": {
          "base_uri": "https://localhost:8080/"
        },
        "id": "JH0B5zXK-zgl",
        "outputId": "5cbc064c-3a6c-46d0-e207-93370428826e"
      },
      "source": [
        "print(X_train)"
      ],
      "execution_count": 48,
      "outputs": [
        {
          "output_type": "stream",
          "text": [
            "[[-0.44648875  0.14689389 -0.4499642  ... -0.56883625 -0.37786165\n",
            "  -0.36325911]\n",
            " [ 0.26347165 -0.39843349  0.22839285 ...  0.78024155  0.80707129\n",
            "  -0.69107041]\n",
            " [-1.19151947 -0.84268727 -1.17004724 ... -0.73245575 -0.67531396\n",
            "   0.40446753]\n",
            " ...\n",
            " [-0.77153085  1.83693868 -0.80814664 ... -1.39543539 -0.11129237\n",
            "  -0.72294834]\n",
            " [ 0.3404553   2.66903306  0.49899204 ...  1.80789728  1.90423143\n",
            "   2.99773654]\n",
            " [-0.13855412 -1.15295975 -0.15953484 ...  0.21495632  0.0967617\n",
            "  -0.63156496]]\n"
          ],
          "name": "stdout"
        }
      ]
    },
    {
      "cell_type": "code",
      "metadata": {
        "id": "VpOnyFDz_APq"
      },
      "source": [
        "model=tf.keras.models.Sequential()\r\n",
        "model.add(tf.keras.layers.Dense(1,input_shape=(D,),activation='sigmoid'))"
      ],
      "execution_count": 49,
      "outputs": []
    },
    {
      "cell_type": "code",
      "metadata": {
        "id": "38x8Q3HMI8Nj"
      },
      "source": [
        "model.compile(\r\n",
        "    optimizer='adam',\r\n",
        "    loss='binary_crossentropy',\r\n",
        "    metrics=['accuracy']\r\n",
        ")"
      ],
      "execution_count": 50,
      "outputs": []
    },
    {
      "cell_type": "code",
      "metadata": {
        "colab": {
          "base_uri": "https://localhost:8080/"
        },
        "id": "4VseZ-PnlK7s",
        "outputId": "6b3afac2-b34f-41df-fa99-5c93615f8a93"
      },
      "source": [
        "r = model.fit(X_train,y_train, validation_data=(X_test,y_test), epochs=100)\r\n",
        "# Evaluate the model\r\n",
        "print(\"Train score:\",model.evaluate(X_train,y_train))\r\n",
        "print(\"Test score:\",model.evaluate(X_test,y_test))"
      ],
      "execution_count": 51,
      "outputs": [
        {
          "output_type": "stream",
          "text": [
            "Epoch 1/100\n",
            "12/12 [==============================] - 0s 15ms/step - loss: 0.3924 - accuracy: 0.8380 - val_loss: 0.3880 - val_accuracy: 0.8670\n",
            "Epoch 2/100\n",
            "12/12 [==============================] - 0s 4ms/step - loss: 0.3595 - accuracy: 0.8556 - val_loss: 0.3643 - val_accuracy: 0.8723\n",
            "Epoch 3/100\n",
            "12/12 [==============================] - 0s 4ms/step - loss: 0.3499 - accuracy: 0.8604 - val_loss: 0.3441 - val_accuracy: 0.8777\n",
            "Epoch 4/100\n",
            "12/12 [==============================] - 0s 4ms/step - loss: 0.3746 - accuracy: 0.8736 - val_loss: 0.3257 - val_accuracy: 0.8777\n",
            "Epoch 5/100\n",
            "12/12 [==============================] - 0s 4ms/step - loss: 0.2969 - accuracy: 0.9054 - val_loss: 0.3100 - val_accuracy: 0.8777\n",
            "Epoch 6/100\n",
            "12/12 [==============================] - 0s 4ms/step - loss: 0.3048 - accuracy: 0.8865 - val_loss: 0.2955 - val_accuracy: 0.8883\n",
            "Epoch 7/100\n",
            "12/12 [==============================] - 0s 18ms/step - loss: 0.3025 - accuracy: 0.9100 - val_loss: 0.2831 - val_accuracy: 0.8883\n",
            "Epoch 8/100\n",
            "12/12 [==============================] - 0s 4ms/step - loss: 0.2687 - accuracy: 0.9146 - val_loss: 0.2716 - val_accuracy: 0.8883\n",
            "Epoch 9/100\n",
            "12/12 [==============================] - 0s 4ms/step - loss: 0.2286 - accuracy: 0.9325 - val_loss: 0.2612 - val_accuracy: 0.9043\n",
            "Epoch 10/100\n",
            "12/12 [==============================] - 0s 4ms/step - loss: 0.2382 - accuracy: 0.9331 - val_loss: 0.2518 - val_accuracy: 0.9043\n",
            "Epoch 11/100\n",
            "12/12 [==============================] - 0s 4ms/step - loss: 0.2130 - accuracy: 0.9414 - val_loss: 0.2431 - val_accuracy: 0.9096\n",
            "Epoch 12/100\n",
            "12/12 [==============================] - 0s 4ms/step - loss: 0.2202 - accuracy: 0.9300 - val_loss: 0.2353 - val_accuracy: 0.9149\n",
            "Epoch 13/100\n",
            "12/12 [==============================] - 0s 4ms/step - loss: 0.2382 - accuracy: 0.9285 - val_loss: 0.2281 - val_accuracy: 0.9202\n",
            "Epoch 14/100\n",
            "12/12 [==============================] - 0s 5ms/step - loss: 0.2285 - accuracy: 0.9168 - val_loss: 0.2215 - val_accuracy: 0.9202\n",
            "Epoch 15/100\n",
            "12/12 [==============================] - 0s 4ms/step - loss: 0.1987 - accuracy: 0.9476 - val_loss: 0.2152 - val_accuracy: 0.9255\n",
            "Epoch 16/100\n",
            "12/12 [==============================] - 0s 4ms/step - loss: 0.1955 - accuracy: 0.9349 - val_loss: 0.2096 - val_accuracy: 0.9255\n",
            "Epoch 17/100\n",
            "12/12 [==============================] - 0s 4ms/step - loss: 0.1914 - accuracy: 0.9488 - val_loss: 0.2044 - val_accuracy: 0.9255\n",
            "Epoch 18/100\n",
            "12/12 [==============================] - 0s 4ms/step - loss: 0.1844 - accuracy: 0.9551 - val_loss: 0.1994 - val_accuracy: 0.9255\n",
            "Epoch 19/100\n",
            "12/12 [==============================] - 0s 4ms/step - loss: 0.1782 - accuracy: 0.9404 - val_loss: 0.1948 - val_accuracy: 0.9309\n",
            "Epoch 20/100\n",
            "12/12 [==============================] - 0s 4ms/step - loss: 0.1830 - accuracy: 0.9545 - val_loss: 0.1906 - val_accuracy: 0.9309\n",
            "Epoch 21/100\n",
            "12/12 [==============================] - 0s 5ms/step - loss: 0.1559 - accuracy: 0.9570 - val_loss: 0.1865 - val_accuracy: 0.9415\n",
            "Epoch 22/100\n",
            "12/12 [==============================] - 0s 6ms/step - loss: 0.1750 - accuracy: 0.9509 - val_loss: 0.1827 - val_accuracy: 0.9468\n",
            "Epoch 23/100\n",
            "12/12 [==============================] - 0s 4ms/step - loss: 0.1642 - accuracy: 0.9403 - val_loss: 0.1792 - val_accuracy: 0.9521\n",
            "Epoch 24/100\n",
            "12/12 [==============================] - 0s 4ms/step - loss: 0.1661 - accuracy: 0.9430 - val_loss: 0.1759 - val_accuracy: 0.9521\n",
            "Epoch 25/100\n",
            "12/12 [==============================] - 0s 5ms/step - loss: 0.1549 - accuracy: 0.9544 - val_loss: 0.1727 - val_accuracy: 0.9574\n",
            "Epoch 26/100\n",
            "12/12 [==============================] - 0s 4ms/step - loss: 0.1243 - accuracy: 0.9716 - val_loss: 0.1697 - val_accuracy: 0.9574\n",
            "Epoch 27/100\n",
            "12/12 [==============================] - 0s 4ms/step - loss: 0.1380 - accuracy: 0.9650 - val_loss: 0.1668 - val_accuracy: 0.9628\n",
            "Epoch 28/100\n",
            "12/12 [==============================] - 0s 4ms/step - loss: 0.1388 - accuracy: 0.9610 - val_loss: 0.1641 - val_accuracy: 0.9628\n",
            "Epoch 29/100\n",
            "12/12 [==============================] - 0s 4ms/step - loss: 0.1373 - accuracy: 0.9618 - val_loss: 0.1615 - val_accuracy: 0.9681\n",
            "Epoch 30/100\n",
            "12/12 [==============================] - 0s 5ms/step - loss: 0.1359 - accuracy: 0.9556 - val_loss: 0.1592 - val_accuracy: 0.9681\n",
            "Epoch 31/100\n",
            "12/12 [==============================] - 0s 4ms/step - loss: 0.1406 - accuracy: 0.9512 - val_loss: 0.1569 - val_accuracy: 0.9681\n",
            "Epoch 32/100\n",
            "12/12 [==============================] - 0s 4ms/step - loss: 0.1344 - accuracy: 0.9590 - val_loss: 0.1546 - val_accuracy: 0.9681\n",
            "Epoch 33/100\n",
            "12/12 [==============================] - 0s 5ms/step - loss: 0.1223 - accuracy: 0.9668 - val_loss: 0.1525 - val_accuracy: 0.9681\n",
            "Epoch 34/100\n",
            "12/12 [==============================] - 0s 4ms/step - loss: 0.1204 - accuracy: 0.9600 - val_loss: 0.1504 - val_accuracy: 0.9681\n",
            "Epoch 35/100\n",
            "12/12 [==============================] - 0s 4ms/step - loss: 0.1312 - accuracy: 0.9576 - val_loss: 0.1485 - val_accuracy: 0.9681\n",
            "Epoch 36/100\n",
            "12/12 [==============================] - 0s 4ms/step - loss: 0.1038 - accuracy: 0.9657 - val_loss: 0.1466 - val_accuracy: 0.9681\n",
            "Epoch 37/100\n",
            "12/12 [==============================] - 0s 4ms/step - loss: 0.1248 - accuracy: 0.9649 - val_loss: 0.1448 - val_accuracy: 0.9681\n",
            "Epoch 38/100\n",
            "12/12 [==============================] - 0s 4ms/step - loss: 0.1111 - accuracy: 0.9717 - val_loss: 0.1431 - val_accuracy: 0.9681\n",
            "Epoch 39/100\n",
            "12/12 [==============================] - 0s 4ms/step - loss: 0.1410 - accuracy: 0.9539 - val_loss: 0.1414 - val_accuracy: 0.9734\n",
            "Epoch 40/100\n",
            "12/12 [==============================] - 0s 4ms/step - loss: 0.1208 - accuracy: 0.9635 - val_loss: 0.1399 - val_accuracy: 0.9734\n",
            "Epoch 41/100\n",
            "12/12 [==============================] - 0s 4ms/step - loss: 0.1084 - accuracy: 0.9740 - val_loss: 0.1384 - val_accuracy: 0.9734\n",
            "Epoch 42/100\n",
            "12/12 [==============================] - 0s 4ms/step - loss: 0.1193 - accuracy: 0.9600 - val_loss: 0.1370 - val_accuracy: 0.9734\n",
            "Epoch 43/100\n",
            "12/12 [==============================] - 0s 5ms/step - loss: 0.1062 - accuracy: 0.9669 - val_loss: 0.1356 - val_accuracy: 0.9734\n",
            "Epoch 44/100\n",
            "12/12 [==============================] - 0s 4ms/step - loss: 0.1142 - accuracy: 0.9732 - val_loss: 0.1342 - val_accuracy: 0.9734\n",
            "Epoch 45/100\n",
            "12/12 [==============================] - 0s 5ms/step - loss: 0.0953 - accuracy: 0.9634 - val_loss: 0.1329 - val_accuracy: 0.9734\n",
            "Epoch 46/100\n",
            "12/12 [==============================] - 0s 5ms/step - loss: 0.1006 - accuracy: 0.9573 - val_loss: 0.1316 - val_accuracy: 0.9734\n",
            "Epoch 47/100\n",
            "12/12 [==============================] - 0s 5ms/step - loss: 0.0997 - accuracy: 0.9698 - val_loss: 0.1304 - val_accuracy: 0.9734\n",
            "Epoch 48/100\n",
            "12/12 [==============================] - 0s 4ms/step - loss: 0.1041 - accuracy: 0.9757 - val_loss: 0.1292 - val_accuracy: 0.9734\n",
            "Epoch 49/100\n",
            "12/12 [==============================] - 0s 4ms/step - loss: 0.1092 - accuracy: 0.9700 - val_loss: 0.1281 - val_accuracy: 0.9787\n",
            "Epoch 50/100\n",
            "12/12 [==============================] - 0s 4ms/step - loss: 0.1077 - accuracy: 0.9680 - val_loss: 0.1270 - val_accuracy: 0.9787\n",
            "Epoch 51/100\n",
            "12/12 [==============================] - 0s 4ms/step - loss: 0.1173 - accuracy: 0.9558 - val_loss: 0.1259 - val_accuracy: 0.9787\n",
            "Epoch 52/100\n",
            "12/12 [==============================] - 0s 4ms/step - loss: 0.1050 - accuracy: 0.9640 - val_loss: 0.1248 - val_accuracy: 0.9840\n",
            "Epoch 53/100\n",
            "12/12 [==============================] - 0s 4ms/step - loss: 0.1127 - accuracy: 0.9582 - val_loss: 0.1238 - val_accuracy: 0.9840\n",
            "Epoch 54/100\n",
            "12/12 [==============================] - 0s 4ms/step - loss: 0.1153 - accuracy: 0.9612 - val_loss: 0.1229 - val_accuracy: 0.9840\n",
            "Epoch 55/100\n",
            "12/12 [==============================] - 0s 6ms/step - loss: 0.0963 - accuracy: 0.9720 - val_loss: 0.1219 - val_accuracy: 0.9840\n",
            "Epoch 56/100\n",
            "12/12 [==============================] - 0s 4ms/step - loss: 0.0903 - accuracy: 0.9810 - val_loss: 0.1210 - val_accuracy: 0.9840\n",
            "Epoch 57/100\n",
            "12/12 [==============================] - 0s 5ms/step - loss: 0.0993 - accuracy: 0.9742 - val_loss: 0.1201 - val_accuracy: 0.9840\n",
            "Epoch 58/100\n",
            "12/12 [==============================] - 0s 5ms/step - loss: 0.1110 - accuracy: 0.9675 - val_loss: 0.1192 - val_accuracy: 0.9840\n",
            "Epoch 59/100\n",
            "12/12 [==============================] - 0s 5ms/step - loss: 0.1055 - accuracy: 0.9649 - val_loss: 0.1184 - val_accuracy: 0.9840\n",
            "Epoch 60/100\n",
            "12/12 [==============================] - 0s 4ms/step - loss: 0.0906 - accuracy: 0.9686 - val_loss: 0.1176 - val_accuracy: 0.9840\n",
            "Epoch 61/100\n",
            "12/12 [==============================] - 0s 5ms/step - loss: 0.0967 - accuracy: 0.9661 - val_loss: 0.1168 - val_accuracy: 0.9840\n",
            "Epoch 62/100\n",
            "12/12 [==============================] - 0s 4ms/step - loss: 0.1109 - accuracy: 0.9563 - val_loss: 0.1161 - val_accuracy: 0.9840\n",
            "Epoch 63/100\n",
            "12/12 [==============================] - 0s 14ms/step - loss: 0.1021 - accuracy: 0.9709 - val_loss: 0.1153 - val_accuracy: 0.9840\n",
            "Epoch 64/100\n",
            "12/12 [==============================] - 0s 5ms/step - loss: 0.1113 - accuracy: 0.9627 - val_loss: 0.1146 - val_accuracy: 0.9840\n",
            "Epoch 65/100\n",
            "12/12 [==============================] - 0s 4ms/step - loss: 0.0886 - accuracy: 0.9762 - val_loss: 0.1139 - val_accuracy: 0.9840\n",
            "Epoch 66/100\n",
            "12/12 [==============================] - 0s 5ms/step - loss: 0.1002 - accuracy: 0.9728 - val_loss: 0.1132 - val_accuracy: 0.9840\n",
            "Epoch 67/100\n",
            "12/12 [==============================] - 0s 5ms/step - loss: 0.0852 - accuracy: 0.9735 - val_loss: 0.1124 - val_accuracy: 0.9840\n",
            "Epoch 68/100\n",
            "12/12 [==============================] - 0s 4ms/step - loss: 0.1049 - accuracy: 0.9691 - val_loss: 0.1118 - val_accuracy: 0.9840\n",
            "Epoch 69/100\n",
            "12/12 [==============================] - 0s 4ms/step - loss: 0.0810 - accuracy: 0.9754 - val_loss: 0.1112 - val_accuracy: 0.9840\n",
            "Epoch 70/100\n",
            "12/12 [==============================] - 0s 5ms/step - loss: 0.0968 - accuracy: 0.9611 - val_loss: 0.1106 - val_accuracy: 0.9840\n",
            "Epoch 71/100\n",
            "12/12 [==============================] - 0s 4ms/step - loss: 0.0997 - accuracy: 0.9718 - val_loss: 0.1099 - val_accuracy: 0.9840\n",
            "Epoch 72/100\n",
            "12/12 [==============================] - 0s 5ms/step - loss: 0.0861 - accuracy: 0.9752 - val_loss: 0.1094 - val_accuracy: 0.9840\n",
            "Epoch 73/100\n",
            "12/12 [==============================] - 0s 4ms/step - loss: 0.0774 - accuracy: 0.9826 - val_loss: 0.1088 - val_accuracy: 0.9840\n",
            "Epoch 74/100\n",
            "12/12 [==============================] - 0s 4ms/step - loss: 0.0800 - accuracy: 0.9784 - val_loss: 0.1082 - val_accuracy: 0.9840\n",
            "Epoch 75/100\n",
            "12/12 [==============================] - 0s 5ms/step - loss: 0.0949 - accuracy: 0.9684 - val_loss: 0.1076 - val_accuracy: 0.9840\n",
            "Epoch 76/100\n",
            "12/12 [==============================] - 0s 6ms/step - loss: 0.0878 - accuracy: 0.9689 - val_loss: 0.1071 - val_accuracy: 0.9840\n",
            "Epoch 77/100\n",
            "12/12 [==============================] - 0s 5ms/step - loss: 0.0987 - accuracy: 0.9661 - val_loss: 0.1065 - val_accuracy: 0.9840\n",
            "Epoch 78/100\n",
            "12/12 [==============================] - 0s 5ms/step - loss: 0.1017 - accuracy: 0.9711 - val_loss: 0.1061 - val_accuracy: 0.9840\n",
            "Epoch 79/100\n",
            "12/12 [==============================] - 0s 4ms/step - loss: 0.0901 - accuracy: 0.9683 - val_loss: 0.1055 - val_accuracy: 0.9840\n",
            "Epoch 80/100\n",
            "12/12 [==============================] - 0s 5ms/step - loss: 0.0941 - accuracy: 0.9713 - val_loss: 0.1051 - val_accuracy: 0.9840\n",
            "Epoch 81/100\n",
            "12/12 [==============================] - 0s 5ms/step - loss: 0.0876 - accuracy: 0.9792 - val_loss: 0.1045 - val_accuracy: 0.9840\n",
            "Epoch 82/100\n",
            "12/12 [==============================] - 0s 5ms/step - loss: 0.0860 - accuracy: 0.9650 - val_loss: 0.1041 - val_accuracy: 0.9840\n",
            "Epoch 83/100\n",
            "12/12 [==============================] - 0s 5ms/step - loss: 0.0860 - accuracy: 0.9770 - val_loss: 0.1037 - val_accuracy: 0.9840\n",
            "Epoch 84/100\n",
            "12/12 [==============================] - 0s 4ms/step - loss: 0.0781 - accuracy: 0.9807 - val_loss: 0.1032 - val_accuracy: 0.9840\n",
            "Epoch 85/100\n",
            "12/12 [==============================] - 0s 4ms/step - loss: 0.1035 - accuracy: 0.9555 - val_loss: 0.1028 - val_accuracy: 0.9840\n",
            "Epoch 86/100\n",
            "12/12 [==============================] - 0s 4ms/step - loss: 0.0789 - accuracy: 0.9774 - val_loss: 0.1024 - val_accuracy: 0.9840\n",
            "Epoch 87/100\n",
            "12/12 [==============================] - 0s 5ms/step - loss: 0.0888 - accuracy: 0.9748 - val_loss: 0.1019 - val_accuracy: 0.9840\n",
            "Epoch 88/100\n",
            "12/12 [==============================] - 0s 4ms/step - loss: 0.0901 - accuracy: 0.9638 - val_loss: 0.1015 - val_accuracy: 0.9840\n",
            "Epoch 89/100\n",
            "12/12 [==============================] - 0s 5ms/step - loss: 0.0793 - accuracy: 0.9683 - val_loss: 0.1011 - val_accuracy: 0.9840\n",
            "Epoch 90/100\n",
            "12/12 [==============================] - 0s 4ms/step - loss: 0.0619 - accuracy: 0.9845 - val_loss: 0.1007 - val_accuracy: 0.9840\n",
            "Epoch 91/100\n",
            "12/12 [==============================] - 0s 5ms/step - loss: 0.0758 - accuracy: 0.9785 - val_loss: 0.1003 - val_accuracy: 0.9840\n",
            "Epoch 92/100\n",
            "12/12 [==============================] - 0s 5ms/step - loss: 0.0733 - accuracy: 0.9841 - val_loss: 0.1000 - val_accuracy: 0.9840\n",
            "Epoch 93/100\n",
            "12/12 [==============================] - 0s 4ms/step - loss: 0.0707 - accuracy: 0.9876 - val_loss: 0.0995 - val_accuracy: 0.9840\n",
            "Epoch 94/100\n",
            "12/12 [==============================] - 0s 4ms/step - loss: 0.0770 - accuracy: 0.9762 - val_loss: 0.0992 - val_accuracy: 0.9840\n",
            "Epoch 95/100\n",
            "12/12 [==============================] - 0s 5ms/step - loss: 0.0766 - accuracy: 0.9805 - val_loss: 0.0988 - val_accuracy: 0.9840\n",
            "Epoch 96/100\n",
            "12/12 [==============================] - 0s 5ms/step - loss: 0.0909 - accuracy: 0.9691 - val_loss: 0.0985 - val_accuracy: 0.9840\n",
            "Epoch 97/100\n",
            "12/12 [==============================] - 0s 4ms/step - loss: 0.0695 - accuracy: 0.9864 - val_loss: 0.0982 - val_accuracy: 0.9840\n",
            "Epoch 98/100\n",
            "12/12 [==============================] - 0s 4ms/step - loss: 0.0644 - accuracy: 0.9859 - val_loss: 0.0978 - val_accuracy: 0.9840\n",
            "Epoch 99/100\n",
            "12/12 [==============================] - 0s 5ms/step - loss: 0.0775 - accuracy: 0.9803 - val_loss: 0.0975 - val_accuracy: 0.9840\n",
            "Epoch 100/100\n",
            "12/12 [==============================] - 0s 5ms/step - loss: 0.0657 - accuracy: 0.9839 - val_loss: 0.0971 - val_accuracy: 0.9840\n",
            "12/12 [==============================] - 0s 1ms/step - loss: 0.0760 - accuracy: 0.9790\n",
            "Train score: [0.07599202543497086, 0.9790025949478149]\n",
            "6/6 [==============================] - 0s 2ms/step - loss: 0.0971 - accuracy: 0.9840\n",
            "Test score: [0.09709403663873672, 0.9840425252914429]\n"
          ],
          "name": "stdout"
        }
      ]
    },
    {
      "cell_type": "code",
      "metadata": {
        "colab": {
          "base_uri": "https://localhost:8080/",
          "height": 295
        },
        "id": "JlQ8EI9nlNSL",
        "outputId": "5e7031ac-cd0a-4921-bcad-70a91115685d"
      },
      "source": [
        "import matplotlib.pyplot as plt\r\n",
        "plt.plot(r.history['loss'], label='loss')\r\n",
        "plt.plot(r.history['val_loss'], label='val_loss')\r\n",
        "plt.title(\"Loss and Val_loss vs Iterations\")\r\n",
        "plt.xlabel('iterations')\r\n",
        "plt.ylabel('Loss and val_loss')\r\n",
        "plt.legend();"
      ],
      "execution_count": 52,
      "outputs": [
        {
          "output_type": "display_data",
          "data": {
            "image/png": "[encoded data removed]",
            "text/plain": [
              "<Figure size 432x288 with 1 Axes>"
            ]
          },
          "metadata": {
            "tags": [],
            "needs_background": "light"
          }
        }
      ]
    },
    {
      "cell_type": "code",
      "metadata": {
        "colab": {
          "base_uri": "https://localhost:8080/",
          "height": 279
        },
        "id": "HYykryXylUF6",
        "outputId": "817c8f66-dc86-46e6-abec-50086d4f7a41"
      },
      "source": [
        "plt.plot(r.history['accuracy'],label='acc')\r\n",
        "plt.plot(r.history['val_accuracy'],label='val_acc')\r\n",
        "plt.xlabel('iterations')\r\n",
        "plt.ylabel('Acc and val_acc')\r\n",
        "plt.legend();"
      ],
      "execution_count": 53,
      "outputs": [
        {
          "output_type": "display_data",
          "data": {
            "image/png": "[encoded data removed]",
            "text/plain": [
              "<Figure size 432x288 with 1 Axes>"
            ]
          },
          "metadata": {
            "tags": [],
            "needs_background": "light"
          }
        }
      ]
    },
    {
      "cell_type": "code",
      "metadata": {
        "colab": {
          "base_uri": "https://localhost:8080/"
        },
        "id": "rBoJq6wTlXFJ",
        "outputId": "69c25431-6b14-4285-da16-286ad10f35c4"
      },
      "source": [
        "y_pred = model.predict(X_test)\r\n",
        "print(y_pred)"
      ],
      "execution_count": 54,
      "outputs": [
        {
          "output_type": "stream",
          "text": [
            "[[3.2815933e-02]\n",
            " [3.8986465e-01]\n",
            " [9.8611462e-01]\n",
            " [9.6616203e-01]\n",
            " [2.6739925e-02]\n",
            " [9.9598604e-01]\n",
            " [9.2888308e-01]\n",
            " [7.3519647e-03]\n",
            " [1.2259326e-04]\n",
            " [9.2061448e-01]\n",
            " [9.9719524e-01]\n",
            " [9.9351948e-01]\n",
            " [2.6250792e-01]\n",
            " [7.8686726e-01]\n",
            " [9.9965781e-01]\n",
            " [6.5176183e-01]\n",
            " [9.7612917e-01]\n",
            " [1.6054731e-09]\n",
            " [9.4913292e-01]\n",
            " [9.7299904e-01]\n",
            " [1.6692281e-04]\n",
            " [8.3999372e-01]\n",
            " [9.4542736e-01]\n",
            " [8.9591742e-04]\n",
            " [8.0047154e-01]\n",
            " [9.9109030e-01]\n",
            " [9.8781615e-01]\n",
            " [8.8931382e-01]\n",
            " [7.7515441e-01]\n",
            " [9.9794596e-01]\n",
            " [8.6836708e-01]\n",
            " [7.6335669e-04]\n",
            " [9.9882841e-01]\n",
            " [1.1543334e-03]\n",
            " [9.8945779e-01]\n",
            " [9.8640108e-01]\n",
            " [9.5643437e-01]\n",
            " [7.7016258e-01]\n",
            " [2.1267542e-01]\n",
            " [9.9673545e-01]\n",
            " [2.4052262e-03]\n",
            " [1.8020064e-01]\n",
            " [9.9959695e-01]\n",
            " [9.7079062e-01]\n",
            " [9.8730797e-01]\n",
            " [1.2086928e-03]\n",
            " [2.4710268e-02]\n",
            " [9.9770689e-01]\n",
            " [9.5723790e-01]\n",
            " [4.6695769e-02]\n",
            " [4.2200089e-04]\n",
            " [8.4820563e-01]\n",
            " [9.8493230e-01]\n",
            " [5.6821799e-01]\n",
            " [9.2739224e-01]\n",
            " [1.1811256e-03]\n",
            " [4.2188931e-01]\n",
            " [8.4969401e-04]\n",
            " [9.8673558e-01]\n",
            " [9.6768856e-01]\n",
            " [9.9382126e-01]\n",
            " [3.9535761e-04]\n",
            " [9.5433235e-01]\n",
            " [9.9951291e-01]\n",
            " [9.7943377e-01]\n",
            " [9.9887043e-01]\n",
            " [9.9918544e-01]\n",
            " [1.7870992e-02]\n",
            " [4.5205742e-02]\n",
            " [3.6866429e-01]\n",
            " [9.9946690e-01]\n",
            " [9.2919242e-01]\n",
            " [9.7613204e-01]\n",
            " [4.3148994e-03]\n",
            " [1.3233721e-03]\n",
            " [2.3407072e-02]\n",
            " [9.6295357e-01]\n",
            " [9.9596208e-01]\n",
            " [9.8739809e-01]\n",
            " [9.8807168e-01]\n",
            " [2.1710604e-02]\n",
            " [7.4032545e-03]\n",
            " [2.3182034e-03]\n",
            " [9.9967873e-01]\n",
            " [6.9856793e-02]\n",
            " [9.3451500e-01]\n",
            " [9.9948090e-01]\n",
            " [9.9420977e-01]\n",
            " [1.2104846e-08]\n",
            " [7.2096628e-07]\n",
            " [9.9053842e-01]\n",
            " [8.9951801e-01]\n",
            " [9.9459779e-01]\n",
            " [9.9449301e-01]\n",
            " [4.5919418e-03]\n",
            " [9.8459667e-01]\n",
            " [1.8185964e-01]\n",
            " [4.2952716e-02]\n",
            " [2.1462974e-08]\n",
            " [8.6229432e-01]\n",
            " [7.9042149e-01]\n",
            " [9.8315501e-01]\n",
            " [4.1691300e-01]\n",
            " [2.1126091e-01]\n",
            " [1.2491493e-13]\n",
            " [8.2704255e-06]\n",
            " [8.7414390e-01]\n",
            " [9.9913108e-01]\n",
            " [1.3561547e-02]\n",
            " [9.8202515e-01]\n",
            " [1.9061565e-04]\n",
            " [9.6486461e-01]\n",
            " [9.7761530e-01]\n",
            " [1.1513710e-02]\n",
            " [9.9562132e-01]\n",
            " [3.7041664e-02]\n",
            " [2.0080805e-04]\n",
            " [9.5636821e-01]\n",
            " [9.9567652e-01]\n",
            " [9.9987531e-01]\n",
            " [9.5306289e-01]\n",
            " [9.9983549e-01]\n",
            " [9.9832904e-01]\n",
            " [7.9014167e-10]\n",
            " [9.9520600e-01]\n",
            " [9.9502623e-01]\n",
            " [6.1163545e-01]\n",
            " [9.8859215e-01]\n",
            " [6.4334154e-02]\n",
            " [2.6472657e-07]\n",
            " [7.2715068e-01]\n",
            " [2.3042523e-05]\n",
            " [5.5135570e-05]\n",
            " [9.9920976e-01]\n",
            " [9.0372723e-01]\n",
            " [9.9957699e-01]\n",
            " [9.8992223e-01]\n",
            " [9.3773830e-01]\n",
            " [9.3318795e-06]\n",
            " [7.3571318e-06]\n",
            " [9.9922121e-01]\n",
            " [4.7703502e-08]\n",
            " [9.9784958e-01]\n",
            " [8.8561547e-01]\n",
            " [9.9861526e-01]\n",
            " [9.9814636e-01]\n",
            " [9.9435604e-01]\n",
            " [4.6870886e-05]\n",
            " [9.9820024e-01]\n",
            " [6.2332541e-02]\n",
            " [2.1737814e-03]\n",
            " [6.9371378e-01]\n",
            " [1.5413761e-03]\n",
            " [3.4646094e-03]\n",
            " [5.9585861e-09]\n",
            " [4.9164322e-01]\n",
            " [2.6813149e-04]\n",
            " [9.7916436e-01]\n",
            " [9.9335408e-01]\n",
            " [4.8914373e-02]\n",
            " [9.9970275e-01]\n",
            " [5.4315716e-01]\n",
            " [9.0927863e-01]\n",
            " [1.5159231e-01]\n",
            " [5.3550273e-01]\n",
            " [8.1411111e-01]\n",
            " [1.0235310e-03]\n",
            " [9.8804295e-01]\n",
            " [9.7004038e-01]\n",
            " [3.3333868e-06]\n",
            " [9.9781609e-01]\n",
            " [9.6285868e-01]\n",
            " [9.6060908e-01]\n",
            " [2.1238917e-01]\n",
            " [9.9029791e-01]\n",
            " [9.9951375e-01]\n",
            " [1.7161721e-01]\n",
            " [9.1288590e-01]\n",
            " [4.2352080e-04]\n",
            " [9.1979158e-01]\n",
            " [9.9943542e-01]\n",
            " [9.9893254e-01]\n",
            " [1.6124278e-02]\n",
            " [7.6172376e-01]\n",
            " [9.9805111e-01]\n",
            " [9.9478948e-01]\n",
            " [7.7241790e-01]\n",
            " [9.9619067e-01]]\n"
          ],
          "name": "stdout"
        }
      ]
    },
    {
      "cell_type": "code",
      "metadata": {
        "id": "G1rNA2M1lZeM"
      },
      "source": [
        ""
      ],
      "execution_count": 54,
      "outputs": []
    }
  ]
}